{
 "cells": [
  {
   "cell_type": "code",
   "execution_count": 23,
   "id": "81810cea-729d-4d37-a795-937b668f3bf3",
   "metadata": {},
   "outputs": [],
   "source": [
    "#FAST_API\n",
    "import pandas as pd\n",
    "import dill as pickle\n",
    "from fastapi import FastAPI\n",
    "import uvicorn\n",
    "\n",
    "best_model = pickle.load(open('../BEST_MODEL.sav', 'rb'))\n",
    "f = open(\"../seuil.txt\",\"r\")\n",
    "seuil = float(f.read())\n",
    "f.close()\n",
    "\n",
    "df = pd.read_csv('../test.csv')\n",
    "\n",
    "app = FastAPI()\n",
    "\n",
    "@app.post(\"/predict/{idx}\")\n",
    "async def predict(idx: int):\n",
    "    res = best_model.predict_proba(df.values[idx].reshape(1,-1))[:,1]\n",
    "    return \"Rejetée\" if res > seuil else 'Acceptée'\n"
   ]
  },
  {
   "cell_type": "code",
   "execution_count": null,
   "id": "ce81797b-4674-41b1-aa10-6c08b08ef376",
   "metadata": {},
   "outputs": [
    {
     "name": "stderr",
     "output_type": "stream",
     "text": [
      "INFO:     Started server process [3968]\n",
      "INFO:     Waiting for application startup.\n",
      "INFO:     Application startup complete.\n",
      "INFO:     Uvicorn running on http://127.0.0.1:8000 (Press CTRL+C to quit)\n"
     ]
    },
    {
     "name": "stdout",
     "output_type": "stream",
     "text": [
      "[LightGBM] [Warning] min_data_in_leaf is set=10, min_child_samples=20 will be ignored. Current value: min_data_in_leaf=10\n",
      "INFO:     127.0.0.1:52290 - \"POST /predict/11 HTTP/1.1\" 200 OK\n",
      "[LightGBM] [Warning] min_data_in_leaf is set=10, min_child_samples=20 will be ignored. Current value: min_data_in_leaf=10\n",
      "INFO:     127.0.0.1:52293 - \"POST /predict/10 HTTP/1.1\" 200 OK\n",
      "[LightGBM] [Warning] min_data_in_leaf is set=10, min_child_samples=20 will be ignored. Current value: min_data_in_leaf=10\n",
      "INFO:     127.0.0.1:52328 - \"POST /predict/11 HTTP/1.1\" 200 OK\n",
      "[LightGBM] [Warning] min_data_in_leaf is set=10, min_child_samples=20 will be ignored. Current value: min_data_in_leaf=10\n",
      "INFO:     127.0.0.1:52436 - \"POST /predict/10 HTTP/1.1\" 200 OK\n",
      "[LightGBM] [Warning] min_data_in_leaf is set=10, min_child_samples=20 will be ignored. Current value: min_data_in_leaf=10\n",
      "INFO:     127.0.0.1:52444 - \"POST /predict/11 HTTP/1.1\" 200 OK\n",
      "INFO:     127.0.0.1:52654 - \"GET /docs HTTP/1.1\" 200 OK\n",
      "INFO:     127.0.0.1:52654 - \"GET /openapi.json HTTP/1.1\" 200 OK\n",
      "[LightGBM] [Warning] min_data_in_leaf is set=10, min_child_samples=20 will be ignored. Current value: min_data_in_leaf=10\n",
      "INFO:     127.0.0.1:52671 - \"POST /predict/10 HTTP/1.1\" 200 OK\n",
      "[LightGBM] [Warning] min_data_in_leaf is set=10, min_child_samples=20 will be ignored. Current value: min_data_in_leaf=10\n",
      "INFO:     127.0.0.1:52678 - \"POST /predict/1 HTTP/1.1\" 200 OK\n",
      "[LightGBM] [Warning] min_data_in_leaf is set=10, min_child_samples=20 will be ignored. Current value: min_data_in_leaf=10\n",
      "INFO:     127.0.0.1:52683 - \"POST /predict/11 HTTP/1.1\" 200 OK\n",
      "[LightGBM] [Warning] min_data_in_leaf is set=10, min_child_samples=20 will be ignored. Current value: min_data_in_leaf=10\n",
      "INFO:     127.0.0.1:52728 - \"POST /predict/10 HTTP/1.1\" 200 OK\n",
      "[LightGBM] [Warning] min_data_in_leaf is set=10, min_child_samples=20 will be ignored. Current value: min_data_in_leaf=10\n",
      "INFO:     127.0.0.1:52731 - \"POST /predict/11 HTTP/1.1\" 200 OK\n"
     ]
    }
   ],
   "source": [
    "import nest_asyncio\n",
    "\n",
    "nest_asyncio.apply()\n",
    "uvicorn.run(app, port=8000)"
   ]
  },
  {
   "cell_type": "code",
   "execution_count": null,
   "id": "547616d4-ccd3-4f1c-bc5e-a77f4593c17e",
   "metadata": {},
   "outputs": [],
   "source": []
  }
 ],
 "metadata": {
  "kernelspec": {
   "display_name": "Python 3 (ipykernel)",
   "language": "python",
   "name": "python3"
  },
  "language_info": {
   "codemirror_mode": {
    "name": "ipython",
    "version": 3
   },
   "file_extension": ".py",
   "mimetype": "text/x-python",
   "name": "python",
   "nbconvert_exporter": "python",
   "pygments_lexer": "ipython3",
   "version": "3.12.4"
  }
 },
 "nbformat": 4,
 "nbformat_minor": 5
}
