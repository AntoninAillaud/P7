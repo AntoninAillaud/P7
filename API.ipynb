{
 "cells": [
  {
   "cell_type": "code",
   "execution_count": 23,
   "id": "81810cea-729d-4d37-a795-937b668f3bf3",
   "metadata": {},
   "outputs": [],
   "source": [
    "#FAST_API\n",
    "import pandas as pd\n",
    "import dill as pickle\n",
    "from fastapi import FastAPI\n",
    "\n",
    "best_model = pickle.load(open('../BEST_MODEL.sav', 'rb'))\n",
    "f = open(\"../seuil.txt\",\"r\")\n",
    "seuil = float(f.read())\n",
    "f.close()\n",
    "\n",
    "df = pd.read_csv('../test.csv')\n",
    "\n",
    "app = FastAPI()\n",
    "\n",
    "@app.post(\"/predict\")\n",
    "async def predict(idx,model,thresh):\n",
    "    res = model.predict_proba(df.values[idx].reshape(1,-1))[:,1]\n",
    "    \n",
    "    if res > thresh: \n",
    "        return 1 \n",
    "    else: \n",
    "        return 0\n",
    "    "
   ]
  },
  {
   "cell_type": "code",
   "execution_count": null,
   "id": "c6a9047e-6c70-4be7-9a20-b3c082fae986",
   "metadata": {},
   "outputs": [],
   "source": []
  }
 ],
 "metadata": {
  "kernelspec": {
   "display_name": "Python 3 (ipykernel)",
   "language": "python",
   "name": "python3"
  },
  "language_info": {
   "codemirror_mode": {
    "name": "ipython",
    "version": 3
   },
   "file_extension": ".py",
   "mimetype": "text/x-python",
   "name": "python",
   "nbconvert_exporter": "python",
   "pygments_lexer": "ipython3",
   "version": "3.12.4"
  }
 },
 "nbformat": 4,
 "nbformat_minor": 5
}
